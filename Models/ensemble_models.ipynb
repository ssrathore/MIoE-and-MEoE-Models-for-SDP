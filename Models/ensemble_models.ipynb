{
 "cells": [
  {
   "cell_type": "code",
   "execution_count": 2,
   "metadata": {},
   "outputs": [],
   "source": [
    "from sklearn import metrics\n",
    "from sklearn import model_selection\n",
    "from sklearn.ensemble import BaggingClassifier\n",
    "from sklearn.ensemble import AdaBoostClassifier\n",
    "\n",
    "\n"
   ]
  },
  {
   "cell_type": "code",
   "execution_count": 1,
   "metadata": {},
   "outputs": [],
   "source": [
    "def adaBoost(X_train,y_train,X_test,y_test):\n",
    "    num_trees = 10\n",
    "    model = AdaBoostClassifier(n_estimators=num_trees, random_state=0)\n",
    "    model.fit(X_train, y_train)\n",
    "    y_pred_test = model.predict(X_test)\n",
    "    result = {\n",
    "      \"Accuracy\": metrics.accuracy_score(y_test, y_pred_test),\n",
    "      \"F1_score\": metrics.f1_score(y_test, y_pred_test, average='macro'),\n",
    "      \"AUC_score\": metrics.roc_auc_score(y_test,  y_pred_test),\n",
    "      \"Prediction\": y_pred_test\n",
    "      \n",
    "    }\n",
    "    return result"
   ]
  },
  {
   "cell_type": "code",
   "execution_count": null,
   "metadata": {},
   "outputs": [],
   "source": [
    "def bagging(X_train,y_train,X_test,y_test):\n",
    "    seed = 8\n",
    "    kfold = model_selection.KFold(n_splits = 3)\n",
    "    \n",
    "    #matrices\n",
    "    base_cls = DecisionTreeClassifier()\n",
    "  \n",
    "    # no. of base classifier\n",
    "    num_trees = 10\n",
    "\n",
    "    # bagging classifier\n",
    "    model = BaggingClassifier(base_estimator = base_cls,\n",
    "                              n_estimators = num_trees)\n",
    "  \n",
    "    model.fit(X_train, y_train)\n",
    "    y_pred_test = model.predict(X_test)\n",
    "    result = {\n",
    "      \"Accuracy\": metrics.accuracy_score(y_test, y_pred_test),\n",
    "      \"F1_score\": f1_score(y_test, y_pred_test, average='macro'),\n",
    "      \"AUC_score\": metrics.roc_auc_score(y_test,  y_pred_test),\n",
    "      \"Prediction\": y_pred_test\n",
    "      \n",
    "    }\n",
    "    return result"
   ]
  }
 ],
 "metadata": {
  "kernelspec": {
   "display_name": "Python 3",
   "language": "python",
   "name": "python3"
  },
  "language_info": {
   "codemirror_mode": {
    "name": "ipython",
    "version": 3
   },
   "file_extension": ".py",
   "mimetype": "text/x-python",
   "name": "python",
   "nbconvert_exporter": "python",
   "pygments_lexer": "ipython3",
   "version": "3.8.3"
  }
 },
 "nbformat": 4,
 "nbformat_minor": 4
}
