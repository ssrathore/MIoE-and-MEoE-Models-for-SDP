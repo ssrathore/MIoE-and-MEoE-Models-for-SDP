{
 "cells": [
  {
   "cell_type": "code",
   "execution_count": null,
   "metadata": {},
   "outputs": [],
   "source": [
    "import numpy as np\n",
    "from pyclustering.cluster.center_initializer import kmeans_plusplus_initializer\n",
    "from pyclustering.cluster.xmeans import xmeans, splitting_type\n",
    "from imblearn.over_sampling import SMOTE\n",
    "def Implicit_ME(X_train,y_train,X_test,y_test,experts,gate_classifier):\n",
    "    oversample = SMOTE()\n",
    "    Xbalance, ybalance = oversample.fit_resample(X_train, y_train)\n",
    "    initial_centers = kmeans_plusplus_initializer(Xbalance, 1).initialize();\n",
    "    xmeans_instance = xmeans(Xbalance, initial_centers);\n",
    "    xmeans_instance.process();\n",
    "    clusters = xmeans_instance.get_clusters();\n",
    "    "
   ]
  }
 ],
 "metadata": {
  "kernelspec": {
   "display_name": "Python 3",
   "language": "python",
   "name": "python3"
  },
  "language_info": {
   "codemirror_mode": {
    "name": "ipython",
    "version": 3
   },
   "file_extension": ".py",
   "mimetype": "text/x-python",
   "name": "python",
   "nbconvert_exporter": "python",
   "pygments_lexer": "ipython3",
   "version": "3.8.3"
  }
 },
 "nbformat": 4,
 "nbformat_minor": 4
}
