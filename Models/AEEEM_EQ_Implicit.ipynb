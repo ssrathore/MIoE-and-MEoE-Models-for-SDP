{
 "cells": [
  {
   "cell_type": "code",
   "execution_count": 1,
   "metadata": {},
   "outputs": [],
   "source": [
    "import pandas as pd\n",
    "from scipy.io import arff\n",
    "import matplotlib.pyplot as plt \n",
    "import numpy as np \n",
    "from sklearn.tree import DecisionTreeClassifier \n",
    "from sklearn.model_selection import train_test_split \n",
    "from sklearn import metrics\n",
    "from sklearn import tree\n",
    "from sklearn.metrics import confusion_matrix\n",
    "import seaborn as sn\n",
    "from mlxtend.feature_selection import SequentialFeatureSelector as sfs\n",
    "from sklearn.datasets import make_classification\n",
    "from imblearn.over_sampling import SMOTE\n",
    "from collections import Counter\n",
    "from sklearn.metrics import f1_score\n",
    "from sklearn.cluster import KMeans\n",
    "from sklearn import svm\n",
    "from sklearn.linear_model import LogisticRegression\n",
    "from sklearn.ensemble import VotingClassifier"
   ]
  },
  {
   "cell_type": "code",
   "execution_count": 2,
   "metadata": {},
   "outputs": [],
   "source": [
    "data = arff.loadarff('../dataSet/AEEEM/EQ.arff')"
   ]
  },
  {
   "cell_type": "code",
   "execution_count": 3,
   "metadata": {},
   "outputs": [
    {
     "data": {
      "text/html": [
       "<div>\n",
       "<style scoped>\n",
       "    .dataframe tbody tr th:only-of-type {\n",
       "        vertical-align: middle;\n",
       "    }\n",
       "\n",
       "    .dataframe tbody tr th {\n",
       "        vertical-align: top;\n",
       "    }\n",
       "\n",
       "    .dataframe thead th {\n",
       "        text-align: right;\n",
       "    }\n",
       "</style>\n",
       "<table border=\"1\" class=\"dataframe\">\n",
       "  <thead>\n",
       "    <tr style=\"text-align: right;\">\n",
       "      <th></th>\n",
       "      <th>ck_oo_numberOfPrivateMethods</th>\n",
       "      <th>LDHH_lcom</th>\n",
       "      <th>LDHH_fanIn</th>\n",
       "      <th>numberOfNonTrivialBugsFoundUntil:</th>\n",
       "      <th>WCHU_numberOfPublicAttributes</th>\n",
       "      <th>WCHU_numberOfAttributes</th>\n",
       "      <th>CvsWEntropy</th>\n",
       "      <th>LDHH_numberOfPublicMethods</th>\n",
       "      <th>WCHU_fanIn</th>\n",
       "      <th>LDHH_numberOfPrivateAttributes</th>\n",
       "      <th>...</th>\n",
       "      <th>LDHH_fanOut</th>\n",
       "      <th>LDHH_numberOfMethodsInherited</th>\n",
       "      <th>LDHH_rfc</th>\n",
       "      <th>ck_oo_numberOfMethodsInherited</th>\n",
       "      <th>ck_oo_numberOfPublicMethods</th>\n",
       "      <th>LDHH_cbo</th>\n",
       "      <th>WCHU_numberOfLinesOfCode</th>\n",
       "      <th>CvsExpEntropy</th>\n",
       "      <th>LDHH_numberOfMethods</th>\n",
       "      <th>class</th>\n",
       "    </tr>\n",
       "  </thead>\n",
       "  <tbody>\n",
       "    <tr>\n",
       "      <th>0</th>\n",
       "      <td>3.0</td>\n",
       "      <td>0.002547</td>\n",
       "      <td>0.002555</td>\n",
       "      <td>4.0</td>\n",
       "      <td>0.00</td>\n",
       "      <td>3.04</td>\n",
       "      <td>0.393707</td>\n",
       "      <td>0.003049</td>\n",
       "      <td>1.01</td>\n",
       "      <td>0.004091</td>\n",
       "      <td>...</td>\n",
       "      <td>0.005627</td>\n",
       "      <td>0.000000</td>\n",
       "      <td>0.004406</td>\n",
       "      <td>8.0</td>\n",
       "      <td>8.0</td>\n",
       "      <td>0.008431</td>\n",
       "      <td>3.50</td>\n",
       "      <td>0.103594</td>\n",
       "      <td>0.003611</td>\n",
       "      <td>b'buggy'</td>\n",
       "    </tr>\n",
       "    <tr>\n",
       "      <th>1</th>\n",
       "      <td>37.0</td>\n",
       "      <td>0.008643</td>\n",
       "      <td>0.004756</td>\n",
       "      <td>71.0</td>\n",
       "      <td>0.00</td>\n",
       "      <td>14.37</td>\n",
       "      <td>2.093750</td>\n",
       "      <td>0.001481</td>\n",
       "      <td>2.02</td>\n",
       "      <td>0.015332</td>\n",
       "      <td>...</td>\n",
       "      <td>0.018761</td>\n",
       "      <td>0.001486</td>\n",
       "      <td>0.060301</td>\n",
       "      <td>7.0</td>\n",
       "      <td>7.0</td>\n",
       "      <td>0.021602</td>\n",
       "      <td>43.12</td>\n",
       "      <td>0.328692</td>\n",
       "      <td>0.009906</td>\n",
       "      <td>b'buggy'</td>\n",
       "    </tr>\n",
       "    <tr>\n",
       "      <th>2</th>\n",
       "      <td>3.0</td>\n",
       "      <td>0.001479</td>\n",
       "      <td>0.009143</td>\n",
       "      <td>5.0</td>\n",
       "      <td>1.01</td>\n",
       "      <td>3.08</td>\n",
       "      <td>0.484675</td>\n",
       "      <td>0.000000</td>\n",
       "      <td>6.17</td>\n",
       "      <td>0.001953</td>\n",
       "      <td>...</td>\n",
       "      <td>0.003117</td>\n",
       "      <td>0.001486</td>\n",
       "      <td>0.002325</td>\n",
       "      <td>7.0</td>\n",
       "      <td>2.0</td>\n",
       "      <td>0.011859</td>\n",
       "      <td>4.68</td>\n",
       "      <td>0.125841</td>\n",
       "      <td>0.001655</td>\n",
       "      <td>b'clean'</td>\n",
       "    </tr>\n",
       "    <tr>\n",
       "      <th>3</th>\n",
       "      <td>10.0</td>\n",
       "      <td>0.005642</td>\n",
       "      <td>0.005395</td>\n",
       "      <td>38.0</td>\n",
       "      <td>0.00</td>\n",
       "      <td>1.06</td>\n",
       "      <td>0.811584</td>\n",
       "      <td>0.000876</td>\n",
       "      <td>6.07</td>\n",
       "      <td>0.000739</td>\n",
       "      <td>...</td>\n",
       "      <td>0.020376</td>\n",
       "      <td>0.002338</td>\n",
       "      <td>0.030608</td>\n",
       "      <td>17.0</td>\n",
       "      <td>10.0</td>\n",
       "      <td>0.020478</td>\n",
       "      <td>24.06</td>\n",
       "      <td>0.170416</td>\n",
       "      <td>0.007000</td>\n",
       "      <td>b'buggy'</td>\n",
       "    </tr>\n",
       "    <tr>\n",
       "      <th>4</th>\n",
       "      <td>1.0</td>\n",
       "      <td>0.001350</td>\n",
       "      <td>0.000000</td>\n",
       "      <td>1.0</td>\n",
       "      <td>1.01</td>\n",
       "      <td>1.01</td>\n",
       "      <td>0.031940</td>\n",
       "      <td>0.000876</td>\n",
       "      <td>0.00</td>\n",
       "      <td>0.000000</td>\n",
       "      <td>...</td>\n",
       "      <td>0.000566</td>\n",
       "      <td>0.003017</td>\n",
       "      <td>0.001492</td>\n",
       "      <td>22.0</td>\n",
       "      <td>7.0</td>\n",
       "      <td>0.000652</td>\n",
       "      <td>2.13</td>\n",
       "      <td>0.055912</td>\n",
       "      <td>0.001572</td>\n",
       "      <td>b'buggy'</td>\n",
       "    </tr>\n",
       "  </tbody>\n",
       "</table>\n",
       "<p>5 rows × 62 columns</p>\n",
       "</div>"
      ],
      "text/plain": [
       "   ck_oo_numberOfPrivateMethods  LDHH_lcom  LDHH_fanIn  \\\n",
       "0                           3.0   0.002547    0.002555   \n",
       "1                          37.0   0.008643    0.004756   \n",
       "2                           3.0   0.001479    0.009143   \n",
       "3                          10.0   0.005642    0.005395   \n",
       "4                           1.0   0.001350    0.000000   \n",
       "\n",
       "   numberOfNonTrivialBugsFoundUntil:  WCHU_numberOfPublicAttributes  \\\n",
       "0                                4.0                           0.00   \n",
       "1                               71.0                           0.00   \n",
       "2                                5.0                           1.01   \n",
       "3                               38.0                           0.00   \n",
       "4                                1.0                           1.01   \n",
       "\n",
       "   WCHU_numberOfAttributes  CvsWEntropy  LDHH_numberOfPublicMethods  \\\n",
       "0                     3.04     0.393707                    0.003049   \n",
       "1                    14.37     2.093750                    0.001481   \n",
       "2                     3.08     0.484675                    0.000000   \n",
       "3                     1.06     0.811584                    0.000876   \n",
       "4                     1.01     0.031940                    0.000876   \n",
       "\n",
       "   WCHU_fanIn  LDHH_numberOfPrivateAttributes  ...  LDHH_fanOut  \\\n",
       "0        1.01                        0.004091  ...     0.005627   \n",
       "1        2.02                        0.015332  ...     0.018761   \n",
       "2        6.17                        0.001953  ...     0.003117   \n",
       "3        6.07                        0.000739  ...     0.020376   \n",
       "4        0.00                        0.000000  ...     0.000566   \n",
       "\n",
       "   LDHH_numberOfMethodsInherited  LDHH_rfc  ck_oo_numberOfMethodsInherited  \\\n",
       "0                       0.000000  0.004406                             8.0   \n",
       "1                       0.001486  0.060301                             7.0   \n",
       "2                       0.001486  0.002325                             7.0   \n",
       "3                       0.002338  0.030608                            17.0   \n",
       "4                       0.003017  0.001492                            22.0   \n",
       "\n",
       "   ck_oo_numberOfPublicMethods  LDHH_cbo  WCHU_numberOfLinesOfCode  \\\n",
       "0                          8.0  0.008431                      3.50   \n",
       "1                          7.0  0.021602                     43.12   \n",
       "2                          2.0  0.011859                      4.68   \n",
       "3                         10.0  0.020478                     24.06   \n",
       "4                          7.0  0.000652                      2.13   \n",
       "\n",
       "   CvsExpEntropy  LDHH_numberOfMethods     class  \n",
       "0       0.103594              0.003611  b'buggy'  \n",
       "1       0.328692              0.009906  b'buggy'  \n",
       "2       0.125841              0.001655  b'clean'  \n",
       "3       0.170416              0.007000  b'buggy'  \n",
       "4       0.055912              0.001572  b'buggy'  \n",
       "\n",
       "[5 rows x 62 columns]"
      ]
     },
     "execution_count": 3,
     "metadata": {},
     "output_type": "execute_result"
    }
   ],
   "source": [
    "df = pd.DataFrame(data[0])\n",
    "df.head()"
   ]
  },
  {
   "cell_type": "code",
   "execution_count": 4,
   "metadata": {},
   "outputs": [
    {
     "data": {
      "text/html": [
       "<div>\n",
       "<style scoped>\n",
       "    .dataframe tbody tr th:only-of-type {\n",
       "        vertical-align: middle;\n",
       "    }\n",
       "\n",
       "    .dataframe tbody tr th {\n",
       "        vertical-align: top;\n",
       "    }\n",
       "\n",
       "    .dataframe thead th {\n",
       "        text-align: right;\n",
       "    }\n",
       "</style>\n",
       "<table border=\"1\" class=\"dataframe\">\n",
       "  <thead>\n",
       "    <tr style=\"text-align: right;\">\n",
       "      <th></th>\n",
       "      <th>ck_oo_numberOfPrivateMethods</th>\n",
       "      <th>LDHH_lcom</th>\n",
       "      <th>LDHH_fanIn</th>\n",
       "      <th>numberOfNonTrivialBugsFoundUntil:</th>\n",
       "      <th>WCHU_numberOfPublicAttributes</th>\n",
       "      <th>WCHU_numberOfAttributes</th>\n",
       "      <th>CvsWEntropy</th>\n",
       "      <th>LDHH_numberOfPublicMethods</th>\n",
       "      <th>WCHU_fanIn</th>\n",
       "      <th>LDHH_numberOfPrivateAttributes</th>\n",
       "      <th>...</th>\n",
       "      <th>numberOfBugsFoundUntil:</th>\n",
       "      <th>LDHH_fanOut</th>\n",
       "      <th>LDHH_numberOfMethodsInherited</th>\n",
       "      <th>LDHH_rfc</th>\n",
       "      <th>ck_oo_numberOfMethodsInherited</th>\n",
       "      <th>ck_oo_numberOfPublicMethods</th>\n",
       "      <th>LDHH_cbo</th>\n",
       "      <th>WCHU_numberOfLinesOfCode</th>\n",
       "      <th>CvsExpEntropy</th>\n",
       "      <th>LDHH_numberOfMethods</th>\n",
       "    </tr>\n",
       "  </thead>\n",
       "  <tbody>\n",
       "    <tr>\n",
       "      <th>count</th>\n",
       "      <td>324.000000</td>\n",
       "      <td>324.000000</td>\n",
       "      <td>324.000000</td>\n",
       "      <td>324.000000</td>\n",
       "      <td>324.000000</td>\n",
       "      <td>324.000000</td>\n",
       "      <td>324.000000</td>\n",
       "      <td>324.000000</td>\n",
       "      <td>324.000000</td>\n",
       "      <td>324.000000</td>\n",
       "      <td>...</td>\n",
       "      <td>324.000000</td>\n",
       "      <td>324.000000</td>\n",
       "      <td>324.000000</td>\n",
       "      <td>324.000000</td>\n",
       "      <td>324.000000</td>\n",
       "      <td>324.000000</td>\n",
       "      <td>324.000000</td>\n",
       "      <td>324.000000</td>\n",
       "      <td>324.000000</td>\n",
       "      <td>324.000000</td>\n",
       "    </tr>\n",
       "    <tr>\n",
       "      <th>mean</th>\n",
       "      <td>2.083333</td>\n",
       "      <td>0.001212</td>\n",
       "      <td>0.001558</td>\n",
       "      <td>4.299383</td>\n",
       "      <td>0.261574</td>\n",
       "      <td>0.900432</td>\n",
       "      <td>0.154263</td>\n",
       "      <td>0.000553</td>\n",
       "      <td>0.887840</td>\n",
       "      <td>0.000856</td>\n",
       "      <td>...</td>\n",
       "      <td>4.586420</td>\n",
       "      <td>0.002645</td>\n",
       "      <td>0.001492</td>\n",
       "      <td>0.003581</td>\n",
       "      <td>14.722222</td>\n",
       "      <td>5.743827</td>\n",
       "      <td>0.003652</td>\n",
       "      <td>2.929660</td>\n",
       "      <td>0.034247</td>\n",
       "      <td>0.001365</td>\n",
       "    </tr>\n",
       "    <tr>\n",
       "      <th>std</th>\n",
       "      <td>5.848646</td>\n",
       "      <td>0.003069</td>\n",
       "      <td>0.003452</td>\n",
       "      <td>7.906567</td>\n",
       "      <td>0.949242</td>\n",
       "      <td>2.017897</td>\n",
       "      <td>0.310351</td>\n",
       "      <td>0.001573</td>\n",
       "      <td>1.812751</td>\n",
       "      <td>0.002409</td>\n",
       "      <td>...</td>\n",
       "      <td>8.452852</td>\n",
       "      <td>0.005133</td>\n",
       "      <td>0.002422</td>\n",
       "      <td>0.007835</td>\n",
       "      <td>14.142902</td>\n",
       "      <td>7.186963</td>\n",
       "      <td>0.006038</td>\n",
       "      <td>6.268788</td>\n",
       "      <td>0.053297</td>\n",
       "      <td>0.003409</td>\n",
       "    </tr>\n",
       "    <tr>\n",
       "      <th>min</th>\n",
       "      <td>0.000000</td>\n",
       "      <td>0.000000</td>\n",
       "      <td>0.000000</td>\n",
       "      <td>0.000000</td>\n",
       "      <td>0.000000</td>\n",
       "      <td>0.000000</td>\n",
       "      <td>0.000000</td>\n",
       "      <td>0.000000</td>\n",
       "      <td>0.000000</td>\n",
       "      <td>0.000000</td>\n",
       "      <td>...</td>\n",
       "      <td>0.000000</td>\n",
       "      <td>0.000000</td>\n",
       "      <td>0.000000</td>\n",
       "      <td>0.000000</td>\n",
       "      <td>0.000000</td>\n",
       "      <td>0.000000</td>\n",
       "      <td>0.000000</td>\n",
       "      <td>0.000000</td>\n",
       "      <td>0.000000</td>\n",
       "      <td>0.000000</td>\n",
       "    </tr>\n",
       "    <tr>\n",
       "      <th>25%</th>\n",
       "      <td>0.000000</td>\n",
       "      <td>0.000000</td>\n",
       "      <td>0.000000</td>\n",
       "      <td>1.000000</td>\n",
       "      <td>0.000000</td>\n",
       "      <td>0.000000</td>\n",
       "      <td>0.000000</td>\n",
       "      <td>0.000000</td>\n",
       "      <td>0.000000</td>\n",
       "      <td>0.000000</td>\n",
       "      <td>...</td>\n",
       "      <td>1.000000</td>\n",
       "      <td>0.000000</td>\n",
       "      <td>0.000000</td>\n",
       "      <td>0.000000</td>\n",
       "      <td>7.000000</td>\n",
       "      <td>2.000000</td>\n",
       "      <td>0.000000</td>\n",
       "      <td>0.000000</td>\n",
       "      <td>0.000000</td>\n",
       "      <td>0.000000</td>\n",
       "    </tr>\n",
       "    <tr>\n",
       "      <th>50%</th>\n",
       "      <td>0.000000</td>\n",
       "      <td>0.000000</td>\n",
       "      <td>0.000000</td>\n",
       "      <td>2.000000</td>\n",
       "      <td>0.000000</td>\n",
       "      <td>0.000000</td>\n",
       "      <td>0.034743</td>\n",
       "      <td>0.000000</td>\n",
       "      <td>0.000000</td>\n",
       "      <td>0.000000</td>\n",
       "      <td>...</td>\n",
       "      <td>2.000000</td>\n",
       "      <td>0.000000</td>\n",
       "      <td>0.001486</td>\n",
       "      <td>0.000000</td>\n",
       "      <td>9.000000</td>\n",
       "      <td>4.000000</td>\n",
       "      <td>0.000571</td>\n",
       "      <td>0.000000</td>\n",
       "      <td>0.002459</td>\n",
       "      <td>0.000000</td>\n",
       "    </tr>\n",
       "    <tr>\n",
       "      <th>75%</th>\n",
       "      <td>1.000000</td>\n",
       "      <td>0.000851</td>\n",
       "      <td>0.001306</td>\n",
       "      <td>4.000000</td>\n",
       "      <td>0.000000</td>\n",
       "      <td>1.010000</td>\n",
       "      <td>0.141907</td>\n",
       "      <td>0.000389</td>\n",
       "      <td>1.010000</td>\n",
       "      <td>0.000540</td>\n",
       "      <td>...</td>\n",
       "      <td>4.000000</td>\n",
       "      <td>0.003065</td>\n",
       "      <td>0.001829</td>\n",
       "      <td>0.003101</td>\n",
       "      <td>17.000000</td>\n",
       "      <td>7.000000</td>\n",
       "      <td>0.004918</td>\n",
       "      <td>3.227500</td>\n",
       "      <td>0.057904</td>\n",
       "      <td>0.000863</td>\n",
       "    </tr>\n",
       "    <tr>\n",
       "      <th>max</th>\n",
       "      <td>49.000000</td>\n",
       "      <td>0.024636</td>\n",
       "      <td>0.023417</td>\n",
       "      <td>71.000000</td>\n",
       "      <td>7.740000</td>\n",
       "      <td>16.250000</td>\n",
       "      <td>2.670750</td>\n",
       "      <td>0.015215</td>\n",
       "      <td>11.140000</td>\n",
       "      <td>0.019631</td>\n",
       "      <td>...</td>\n",
       "      <td>78.000000</td>\n",
       "      <td>0.037312</td>\n",
       "      <td>0.019677</td>\n",
       "      <td>0.060301</td>\n",
       "      <td>111.000000</td>\n",
       "      <td>54.000000</td>\n",
       "      <td>0.039637</td>\n",
       "      <td>48.680000</td>\n",
       "      <td>0.328692</td>\n",
       "      <td>0.027806</td>\n",
       "    </tr>\n",
       "  </tbody>\n",
       "</table>\n",
       "<p>8 rows × 61 columns</p>\n",
       "</div>"
      ],
      "text/plain": [
       "       ck_oo_numberOfPrivateMethods   LDHH_lcom  LDHH_fanIn  \\\n",
       "count                    324.000000  324.000000  324.000000   \n",
       "mean                       2.083333    0.001212    0.001558   \n",
       "std                        5.848646    0.003069    0.003452   \n",
       "min                        0.000000    0.000000    0.000000   \n",
       "25%                        0.000000    0.000000    0.000000   \n",
       "50%                        0.000000    0.000000    0.000000   \n",
       "75%                        1.000000    0.000851    0.001306   \n",
       "max                       49.000000    0.024636    0.023417   \n",
       "\n",
       "       numberOfNonTrivialBugsFoundUntil:  WCHU_numberOfPublicAttributes  \\\n",
       "count                         324.000000                     324.000000   \n",
       "mean                            4.299383                       0.261574   \n",
       "std                             7.906567                       0.949242   \n",
       "min                             0.000000                       0.000000   \n",
       "25%                             1.000000                       0.000000   \n",
       "50%                             2.000000                       0.000000   \n",
       "75%                             4.000000                       0.000000   \n",
       "max                            71.000000                       7.740000   \n",
       "\n",
       "       WCHU_numberOfAttributes  CvsWEntropy  LDHH_numberOfPublicMethods  \\\n",
       "count               324.000000   324.000000                  324.000000   \n",
       "mean                  0.900432     0.154263                    0.000553   \n",
       "std                   2.017897     0.310351                    0.001573   \n",
       "min                   0.000000     0.000000                    0.000000   \n",
       "25%                   0.000000     0.000000                    0.000000   \n",
       "50%                   0.000000     0.034743                    0.000000   \n",
       "75%                   1.010000     0.141907                    0.000389   \n",
       "max                  16.250000     2.670750                    0.015215   \n",
       "\n",
       "       WCHU_fanIn  LDHH_numberOfPrivateAttributes  ...  \\\n",
       "count  324.000000                      324.000000  ...   \n",
       "mean     0.887840                        0.000856  ...   \n",
       "std      1.812751                        0.002409  ...   \n",
       "min      0.000000                        0.000000  ...   \n",
       "25%      0.000000                        0.000000  ...   \n",
       "50%      0.000000                        0.000000  ...   \n",
       "75%      1.010000                        0.000540  ...   \n",
       "max     11.140000                        0.019631  ...   \n",
       "\n",
       "       numberOfBugsFoundUntil:  LDHH_fanOut  LDHH_numberOfMethodsInherited  \\\n",
       "count               324.000000   324.000000                     324.000000   \n",
       "mean                  4.586420     0.002645                       0.001492   \n",
       "std                   8.452852     0.005133                       0.002422   \n",
       "min                   0.000000     0.000000                       0.000000   \n",
       "25%                   1.000000     0.000000                       0.000000   \n",
       "50%                   2.000000     0.000000                       0.001486   \n",
       "75%                   4.000000     0.003065                       0.001829   \n",
       "max                  78.000000     0.037312                       0.019677   \n",
       "\n",
       "         LDHH_rfc  ck_oo_numberOfMethodsInherited  \\\n",
       "count  324.000000                      324.000000   \n",
       "mean     0.003581                       14.722222   \n",
       "std      0.007835                       14.142902   \n",
       "min      0.000000                        0.000000   \n",
       "25%      0.000000                        7.000000   \n",
       "50%      0.000000                        9.000000   \n",
       "75%      0.003101                       17.000000   \n",
       "max      0.060301                      111.000000   \n",
       "\n",
       "       ck_oo_numberOfPublicMethods    LDHH_cbo  WCHU_numberOfLinesOfCode  \\\n",
       "count                   324.000000  324.000000                324.000000   \n",
       "mean                      5.743827    0.003652                  2.929660   \n",
       "std                       7.186963    0.006038                  6.268788   \n",
       "min                       0.000000    0.000000                  0.000000   \n",
       "25%                       2.000000    0.000000                  0.000000   \n",
       "50%                       4.000000    0.000571                  0.000000   \n",
       "75%                       7.000000    0.004918                  3.227500   \n",
       "max                      54.000000    0.039637                 48.680000   \n",
       "\n",
       "       CvsExpEntropy  LDHH_numberOfMethods  \n",
       "count     324.000000            324.000000  \n",
       "mean        0.034247              0.001365  \n",
       "std         0.053297              0.003409  \n",
       "min         0.000000              0.000000  \n",
       "25%         0.000000              0.000000  \n",
       "50%         0.002459              0.000000  \n",
       "75%         0.057904              0.000863  \n",
       "max         0.328692              0.027806  \n",
       "\n",
       "[8 rows x 61 columns]"
      ]
     },
     "execution_count": 4,
     "metadata": {},
     "output_type": "execute_result"
    }
   ],
   "source": [
    "df.describe()"
   ]
  },
  {
   "cell_type": "code",
   "execution_count": 5,
   "metadata": {},
   "outputs": [
    {
     "name": "stdout",
     "output_type": "stream",
     "text": [
      "class\n",
      "b'buggy'    129\n",
      "b'clean'    195\n",
      "Name: class, dtype: int64\n"
     ]
    }
   ],
   "source": [
    "defect_true_false = df.groupby('class')['class'].apply(lambda x: x.count())\n",
    "print(defect_true_false)"
   ]
  },
  {
   "cell_type": "code",
   "execution_count": 6,
   "metadata": {},
   "outputs": [
    {
     "data": {
      "text/plain": [
       "0      buggy\n",
       "1      buggy\n",
       "2      clean\n",
       "3      buggy\n",
       "4      buggy\n",
       "       ...  \n",
       "319    clean\n",
       "320    clean\n",
       "321    buggy\n",
       "322    clean\n",
       "323    clean\n",
       "Name: class, Length: 324, dtype: object"
      ]
     },
     "execution_count": 6,
     "metadata": {},
     "output_type": "execute_result"
    }
   ],
   "source": [
    "df['class'].str.decode(\"utf-8\")"
   ]
  },
  {
   "cell_type": "code",
   "execution_count": 7,
   "metadata": {},
   "outputs": [],
   "source": [
    "X= df.iloc[ : , :-1].values\n",
    "y= df['class'].str.decode(\"utf-8\").map({'buggy': 1, 'clean': 0})"
   ]
  },
  {
   "cell_type": "code",
   "execution_count": 8,
   "metadata": {},
   "outputs": [],
   "source": [
    "X_train, X_test, y_train, y_test = train_test_split(X, y, test_size=0.2, random_state=1)"
   ]
  },
  {
   "cell_type": "code",
   "execution_count": 9,
   "metadata": {},
   "outputs": [],
   "source": [
    "# transform the dataset\n",
    "oversample = SMOTE()\n",
    "X_train_balance, y_train_balance = oversample.fit_resample(X_train, y_train)"
   ]
  },
  {
   "cell_type": "code",
   "execution_count": 10,
   "metadata": {},
   "outputs": [],
   "source": [
    "counterBefore = Counter(y_train)"
   ]
  },
  {
   "cell_type": "code",
   "execution_count": 11,
   "metadata": {},
   "outputs": [
    {
     "name": "stdout",
     "output_type": "stream",
     "text": [
      "Counter({0: 160, 1: 99})\n"
     ]
    }
   ],
   "source": [
    "print(counterBefore)"
   ]
  },
  {
   "cell_type": "code",
   "execution_count": 12,
   "metadata": {},
   "outputs": [],
   "source": [
    "counterAfter= Counter(y_train_balance)"
   ]
  },
  {
   "cell_type": "code",
   "execution_count": 13,
   "metadata": {},
   "outputs": [
    {
     "name": "stdout",
     "output_type": "stream",
     "text": [
      "Counter({1: 160, 0: 160})\n"
     ]
    }
   ],
   "source": [
    "print(counterAfter)"
   ]
  },
  {
   "cell_type": "code",
   "execution_count": 14,
   "metadata": {},
   "outputs": [],
   "source": [
    "arr_X_train = np.array_split(X_train, 3)\n",
    "arr_y_train = np.array_split(y_train, 3)"
   ]
  },
  {
   "cell_type": "code",
   "execution_count": 15,
   "metadata": {},
   "outputs": [
    {
     "name": "stdout",
     "output_type": "stream",
     "text": [
      "Accuracy of DT 0.7222222222222222\n",
      "Accuracy of svm 0.7777777777777778\n",
      "Accuracy of logistic 0.7222222222222222\n"
     ]
    },
    {
     "name": "stderr",
     "output_type": "stream",
     "text": [
      "C:\\Users\\AdityaShankar\\anaconda3\\lib\\site-packages\\sklearn\\linear_model\\_logistic.py:763: ConvergenceWarning: lbfgs failed to converge (status=1):\n",
      "STOP: TOTAL NO. of ITERATIONS REACHED LIMIT.\n",
      "\n",
      "Increase the number of iterations (max_iter) or scale the data as shown in:\n",
      "    https://scikit-learn.org/stable/modules/preprocessing.html\n",
      "Please also refer to the documentation for alternative solver options:\n",
      "    https://scikit-learn.org/stable/modules/linear_model.html#logistic-regression\n",
      "  n_iter_i = _check_optimize_result(\n"
     ]
    }
   ],
   "source": [
    "clust1_X_train, clust1_X_test, clust1_y_train, clust1_y_test = train_test_split(arr_X_train[0],arr_y_train[0], test_size=0.2,random_state=1)\n",
    "\n",
    "dt1 = DecisionTreeClassifier(criterion = \"entropy\", splitter = \"best\").fit(clust1_X_train,clust1_y_train)\n",
    "pred1 = dt1.predict(clust1_X_test)\n",
    "print(\"Accuracy of DT\",metrics.accuracy_score(clust1_y_test, pred1))\n",
    "\n",
    "svm1 = svm.SVC().fit(clust1_X_train,clust1_y_train)\n",
    "pred1 = svm1.predict(clust1_X_test)\n",
    "print(\"Accuracy of svm\",metrics.accuracy_score(clust1_y_test, pred1))\n",
    "\n",
    "log1 = LogisticRegression(max_iter=1000).fit(clust1_X_train,clust1_y_train)\n",
    "pred1 = log1.predict(clust1_X_test)\n",
    "print(\"Accuracy of logistic\",metrics.accuracy_score(clust1_y_test, pred1))"
   ]
  },
  {
   "cell_type": "code",
   "execution_count": 16,
   "metadata": {},
   "outputs": [
    {
     "name": "stdout",
     "output_type": "stream",
     "text": [
      "Accuracy of DT 0.7222222222222222\n",
      "Accuracy of svm 0.7222222222222222\n",
      "Accuracy of logistic 0.8333333333333334\n"
     ]
    }
   ],
   "source": [
    "clust2_X_train, clust2_X_test, clust2_y_train, clust2_y_test = train_test_split(arr_X_train[1],arr_y_train[1], test_size=0.2,random_state=1)\n",
    "\n",
    "dt2 = DecisionTreeClassifier(criterion = \"entropy\", splitter = \"best\").fit(clust2_X_train,clust2_y_train)\n",
    "pred2 = dt2.predict(clust2_X_test)\n",
    "print(\"Accuracy of DT\",metrics.accuracy_score(clust2_y_test, pred2))\n",
    "\n",
    "svm2 = svm.SVC().fit(clust2_X_train,clust2_y_train)\n",
    "pred2 = svm2.predict(clust2_X_test)\n",
    "print(\"Accuracy of svm\",metrics.accuracy_score(clust2_y_test, pred2))\n",
    "\n",
    "log2 = LogisticRegression(max_iter=1000).fit(clust2_X_train,clust2_y_train)\n",
    "pred2 = log2.predict(clust2_X_test)\n",
    "print(\"Accuracy of logistic\",metrics.accuracy_score(clust2_y_test, pred2))"
   ]
  },
  {
   "cell_type": "code",
   "execution_count": 17,
   "metadata": {},
   "outputs": [
    {
     "name": "stdout",
     "output_type": "stream",
     "text": [
      "Accuracy of DT 0.6111111111111112\n",
      "Accuracy of svm 0.6666666666666666\n",
      "Accuracy of logistic 0.4444444444444444\n"
     ]
    }
   ],
   "source": [
    "clust3_X_train, clust3_X_test, clust3_y_train, clust3_y_test = train_test_split(arr_X_train[2],arr_y_train[2], test_size=0.2,random_state=1)\n",
    "\n",
    "dt3 = DecisionTreeClassifier(criterion = \"entropy\", splitter = \"best\").fit(clust3_X_train,clust3_y_train)\n",
    "pred3 = dt3.predict(clust3_X_test)\n",
    "print(\"Accuracy of DT\",metrics.accuracy_score(clust3_y_test, pred3))\n",
    "\n",
    "svm3 = svm.SVC().fit(clust3_X_train,clust3_y_train)\n",
    "pred3 = svm3.predict(clust3_X_test)\n",
    "print(\"Accuracy of svm\",metrics.accuracy_score(clust3_y_test, pred3))\n",
    "\n",
    "log3 = LogisticRegression(max_iter=1000).fit(clust3_X_train,clust3_y_train)\n",
    "pred3 = log3.predict(clust3_X_test)\n",
    "print(\"Accuracy of logistic\",metrics.accuracy_score(clust3_y_test, pred3))"
   ]
  },
  {
   "cell_type": "code",
   "execution_count": 18,
   "metadata": {},
   "outputs": [],
   "source": [
    "#train\n",
    "pred_y_clust1 = svm1.predict(X_train)\n",
    "pred_y_clust2 = log2.predict(X_train)\n",
    "pred_y_clust3 = svm3.predict(X_train)\n",
    "#test\n",
    "pred_y_test_clust1 = svm1.predict(X_test)\n",
    "pred_y_test_clust2 = log2.predict(X_test)\n",
    "pred_y_test_clust3 = svm3.predict(X_test)\n"
   ]
  },
  {
   "cell_type": "code",
   "execution_count": 19,
   "metadata": {},
   "outputs": [],
   "source": [
    "X_train_new = X_train\n",
    "i = 0\n",
    "for data in X_train_new:\n",
    "    np.append(data,pred_y_clust1[i])\n",
    "    np.append(data,pred_y_clust2[i])\n",
    "    np.append(data,pred_y_clust3[i])\n",
    "    i = i + 1"
   ]
  },
  {
   "cell_type": "code",
   "execution_count": 20,
   "metadata": {},
   "outputs": [],
   "source": [
    "X_test_new = X_test\n",
    "i = 0\n",
    "for data in X_test_new:\n",
    "    np.append(data,pred_y_test_clust1[i])\n",
    "    np.append(data,pred_y_test_clust2[i])\n",
    "    np.append(data,pred_y_test_clust3[i])\n",
    "    i = i + 1"
   ]
  },
  {
   "cell_type": "code",
   "execution_count": 21,
   "metadata": {},
   "outputs": [
    {
     "name": "stdout",
     "output_type": "stream",
     "text": [
      "Accuracy of Entropy based Decision Tree: 0.7538461538461538\n",
      "Accuracy of svm 0.6307692307692307\n",
      "Accuracy of logistic 0.7692307692307693\n"
     ]
    },
    {
     "name": "stderr",
     "output_type": "stream",
     "text": [
      "C:\\Users\\AdityaShankar\\anaconda3\\lib\\site-packages\\sklearn\\linear_model\\_logistic.py:763: ConvergenceWarning: lbfgs failed to converge (status=1):\n",
      "STOP: TOTAL NO. of ITERATIONS REACHED LIMIT.\n",
      "\n",
      "Increase the number of iterations (max_iter) or scale the data as shown in:\n",
      "    https://scikit-learn.org/stable/modules/preprocessing.html\n",
      "Please also refer to the documentation for alternative solver options:\n",
      "    https://scikit-learn.org/stable/modules/linear_model.html#logistic-regression\n",
      "  n_iter_i = _check_optimize_result(\n"
     ]
    }
   ],
   "source": [
    "gateDT = DecisionTreeClassifier(criterion = \"entropy\", splitter = \"best\").fit(X_train_new,y_train)\n",
    "#Predict the response for test dataset\n",
    "gateDT_pred = gateDT.predict(X_test_new)\n",
    "print(\"Accuracy of Entropy based Decision Tree:\",metrics.accuracy_score(y_test,gateDT_pred))\n",
    "\n",
    "gateSVM = svm.SVC(probability=True).fit(X_train_new,y_train)\n",
    "gateSVM_pred = gateSVM.predict(X_test_new)\n",
    "print(\"Accuracy of svm\",metrics.accuracy_score(y_test, gateSVM_pred))\n",
    "\n",
    "gateLOG = LogisticRegression(max_iter=1000).fit(X_train_new,y_train)\n",
    "gateLOG_pred = gateLOG.predict(X_test_new)\n",
    "print(\"Accuracy of logistic\",metrics.accuracy_score(y_test, gateLOG_pred))"
   ]
  },
  {
   "cell_type": "code",
   "execution_count": 22,
   "metadata": {},
   "outputs": [],
   "source": [
    "voting_clf = VotingClassifier(\n",
    "    estimators=[('DecisionTree',gateDT), ('SVM',gateSVM),('Logistic',gateLOG)],voting='soft')"
   ]
  },
  {
   "cell_type": "code",
   "execution_count": 23,
   "metadata": {},
   "outputs": [
    {
     "name": "stderr",
     "output_type": "stream",
     "text": [
      "C:\\Users\\AdityaShankar\\anaconda3\\lib\\site-packages\\sklearn\\linear_model\\_logistic.py:763: ConvergenceWarning: lbfgs failed to converge (status=1):\n",
      "STOP: TOTAL NO. of ITERATIONS REACHED LIMIT.\n",
      "\n",
      "Increase the number of iterations (max_iter) or scale the data as shown in:\n",
      "    https://scikit-learn.org/stable/modules/preprocessing.html\n",
      "Please also refer to the documentation for alternative solver options:\n",
      "    https://scikit-learn.org/stable/modules/linear_model.html#logistic-regression\n",
      "  n_iter_i = _check_optimize_result(\n"
     ]
    }
   ],
   "source": [
    "voting_clf.fit(X_train_new, y_train)\n",
    "final_predictions = voting_clf.predict(X_test_new)"
   ]
  },
  {
   "cell_type": "code",
   "execution_count": 24,
   "metadata": {},
   "outputs": [
    {
     "name": "stdout",
     "output_type": "stream",
     "text": [
      "Accuracy of Mixture of Experts: 0.8153846153846154\n",
      "F1 score 0.8132183908045977\n"
     ]
    }
   ],
   "source": [
    "print(\"Accuracy of Mixture of Experts:\",metrics.accuracy_score(y_test, final_predictions))\n",
    "print(\"F1 score\", f1_score(y_test,final_predictions, average='macro'))"
   ]
  },
  {
   "cell_type": "code",
   "execution_count": 25,
   "metadata": {},
   "outputs": [
    {
     "data": {
      "text/plain": [
       "<matplotlib.axes._subplots.AxesSubplot at 0x29f641c20d0>"
      ]
     },
     "execution_count": 25,
     "metadata": {},
     "output_type": "execute_result"
    },
    {
     "data": {
      "image/png": "[encoded data removed]",
      "text/plain": [
       "<Figure size 432x288 with 2 Axes>"
      ]
     },
     "metadata": {
      "needs_background": "light"
     },
     "output_type": "display_data"
    }
   ],
   "source": [
    "arr2= confusion_matrix(y_test, final_predictions)\n",
    "sn.heatmap(arr2, annot=True)"
   ]
  },
  {
   "cell_type": "code",
   "execution_count": 27,
   "metadata": {},
   "outputs": [
    {
     "data": {
      "image/png": "[encoded data removed]",
      "text/plain": [
       "<Figure size 432x288 with 1 Axes>"
      ]
     },
     "metadata": {
      "needs_background": "light"
     },
     "output_type": "display_data"
    }
   ],
   "source": [
    "fpr, tpr, _ = metrics.roc_curve(y_test,  final_predictions)\n",
    "auc = metrics.roc_auc_score(y_test,  final_predictions)\n",
    "plt.plot(fpr,tpr,label=\"data 1, auc=\"+str(auc))\n",
    "plt.legend(loc=4)\n",
    "plt.show()"
   ]
  },
  {
   "cell_type": "code",
   "execution_count": null,
   "metadata": {},
   "outputs": [],
   "source": []
  }
 ],
 "metadata": {
  "kernelspec": {
   "display_name": "Python 3",
   "language": "python",
   "name": "python3"
  },
  "language_info": {
   "codemirror_mode": {
    "name": "ipython",
    "version": 3
   },
   "file_extension": ".py",
   "mimetype": "text/x-python",
   "name": "python",
   "nbconvert_exporter": "python",
   "pygments_lexer": "ipython3",
   "version": "3.8.3"
  }
 },
 "nbformat": 4,
 "nbformat_minor": 4
}
