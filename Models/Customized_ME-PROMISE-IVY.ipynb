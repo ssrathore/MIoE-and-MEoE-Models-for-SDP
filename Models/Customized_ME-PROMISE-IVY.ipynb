{
 "cells": [
  {
   "cell_type": "code",
   "execution_count": 1,
   "metadata": {},
   "outputs": [],
   "source": [
    "import pandas as pd\n",
    "from scipy.io import arff\n",
    "import matplotlib.pyplot as plt \n",
    "import numpy as np \n",
    "from sklearn.tree import DecisionTreeClassifier \n",
    "from sklearn.model_selection import train_test_split \n",
    "from sklearn import metrics\n",
    "from sklearn import tree\n",
    "from sklearn.metrics import confusion_matrix\n",
    "import seaborn as sn\n",
    "from mlxtend.feature_selection import SequentialFeatureSelector as sfs\n",
    "from sklearn.datasets import make_classification\n",
    "from imblearn.over_sampling import SMOTE\n",
    "from collections import Counter\n",
    "from sklearn.metrics import f1_score\n",
    "from sklearn.cluster import KMeans\n",
    "from sklearn import svm\n",
    "from sklearn.neighbors import KNeighborsClassifier\n",
    "from sklearn.linear_model import LogisticRegression\n",
    "from sklearn.ensemble import VotingClassifier\n",
    "from pyclustering.cluster.center_initializer import kmeans_plusplus_initializer\n",
    "from pyclustering.cluster.xmeans import xmeans, splitting_type\n",
    "from imblearn.over_sampling import SMOTE\n",
    "from implicitModel import Implicit_ME\n"
   ]
  },
  {
   "cell_type": "code",
   "execution_count": 2,
   "metadata": {},
   "outputs": [],
   "source": [
    "def DecisionTree(X_train,y_train,X_test,y_test):\n",
    "    clf = DecisionTreeClassifier(criterion = \"entropy\", splitter = \"random\").fit(X_train,y_train)\n",
    "    y_pred_test = clf.predict(X_test)\n",
    "    \n",
    "    #matrices\n",
    "    fpr, tpr, _ = metrics.roc_curve(y_test,  y_pred_test)\n",
    "    auc = metrics.roc_auc_score(y_test,  y_pred_test)\n",
    "    result = {\n",
    "      \"Accuracy\": metrics.accuracy_score(y_test, y_pred_test),\n",
    "      \"F1_score\": f1_score(y_test, y_pred_test, average='macro'),\n",
    "      \"AUC_score\": auc,\n",
    "      \"Prediction\": y_pred_test\n",
    "      \n",
    "    }\n",
    "    return result"
   ]
  },
  {
   "cell_type": "code",
   "execution_count": 3,
   "metadata": {},
   "outputs": [],
   "source": [
    "def SVM(X_train,y_train,X_test,y_test):\n",
    "    clf = svm.SVC().fit(X_train,y_train)\n",
    "    y_pred_test = clf.predict(X_test)\n",
    "    \n",
    "    #matrices\n",
    "    fpr, tpr, _ = metrics.roc_curve(y_test,  y_pred_test)\n",
    "    auc = metrics.roc_auc_score(y_test,  y_pred_test)\n",
    "    result = {\n",
    "      \"Accuracy\": metrics.accuracy_score(y_test, y_pred_test),\n",
    "      \"F1_score\": f1_score(y_test, y_pred_test, average='macro'),\n",
    "      \"AUC_score\": auc,\n",
    "      \"Prediction\": y_pred_test\n",
    "      \n",
    "    }\n",
    "    return result"
   ]
  },
  {
   "cell_type": "code",
   "execution_count": 4,
   "metadata": {},
   "outputs": [],
   "source": [
    "def KNN(X_train,y_train,X_test,y_test):\n",
    "    clf = KNeighborsClassifier(n_neighbors=3).fit(X_train,y_train)\n",
    "    y_pred_test = clf.predict(X_test)\n",
    "    \n",
    "    #matrices\n",
    "    fpr, tpr, _ = metrics.roc_curve(y_test,  y_pred_test)\n",
    "    auc = metrics.roc_auc_score(y_test,  y_pred_test)\n",
    "    result = {\n",
    "      \"Accuracy\": metrics.accuracy_score(y_test, y_pred_test),\n",
    "      \"F1_score\": f1_score(y_test, y_pred_test, average='macro'),\n",
    "      \"AUC_score\": auc,\n",
    "      \"Prediction\": y_pred_test\n",
    "      \n",
    "    }\n",
    "    return result"
   ]
  },
  {
   "cell_type": "code",
   "execution_count": 5,
   "metadata": {},
   "outputs": [],
   "source": [
    "def Logistic(X_train,y_train,X_test,y_test):\n",
    "    clf = LogisticRegression(max_iter=100,penalty = 'none').fit(X_train,y_train)\n",
    "    y_pred_test = clf.predict(X_test)\n",
    "    \n",
    "    #matrices\n",
    "    fpr, tpr, _ = metrics.roc_curve(y_test,  y_pred_test)\n",
    "    auc = metrics.roc_auc_score(y_test,  y_pred_test)\n",
    "    result = {\n",
    "      \"Accuracy\": metrics.accuracy_score(y_test, y_pred_test),\n",
    "      \"F1_score\": f1_score(y_test, y_pred_test, average='macro'),\n",
    "      \"AUC_score\": auc,\n",
    "      \"Prediction\": y_pred_test\n",
    "      \n",
    "    }\n",
    "    return result"
   ]
  },
  {
   "cell_type": "code",
   "execution_count": 6,
   "metadata": {},
   "outputs": [],
   "source": [
    "def gate_ntw(X_train,y_train,X_test,y_test):\n",
    "    gateDT = DecisionTreeClassifier(criterion = \"entropy\", splitter = \"best\").fit(X_train,y_train)\n",
    "    gateSVM = svm.SVC(probability=True).fit(X_train,y_train)\n",
    "    gateKNN = KNeighborsClassifier(n_neighbors=3).fit(X_train,y_train)\n",
    "    gateLOG = LogisticRegression(max_iter=10000).fit(X_train,y_train)\n",
    "    voting_clf = VotingClassifier(\n",
    "    estimators=[('DecisionTree',gateDT), ('SVM',gateSVM),('KNN',gateKNN),('Logistic',gateLOG)],voting='soft')\n",
    "    voting_clf.fit(X_train, y_train)\n",
    "    final_predictions = voting_clf.predict(X_test)\n",
    "    print(\"Accuracy of Mixture of Experts:\",metrics.accuracy_score(y_test, final_predictions))\n",
    "    print(\"F1 score\", f1_score(y_test,final_predictions, average='macro'))\n",
    "    print(\"AUC score\",  metrics.roc_auc_score(y_test,  final_predictions))\n",
    "    "
   ]
  },
  {
   "cell_type": "code",
   "execution_count": 7,
   "metadata": {},
   "outputs": [
    {
     "data": {
      "text/html": [
       "<div>\n",
       "<style scoped>\n",
       "    .dataframe tbody tr th:only-of-type {\n",
       "        vertical-align: middle;\n",
       "    }\n",
       "\n",
       "    .dataframe tbody tr th {\n",
       "        vertical-align: top;\n",
       "    }\n",
       "\n",
       "    .dataframe thead th {\n",
       "        text-align: right;\n",
       "    }\n",
       "</style>\n",
       "<table border=\"1\" class=\"dataframe\">\n",
       "  <thead>\n",
       "    <tr style=\"text-align: right;\">\n",
       "      <th></th>\n",
       "      <th>wmc</th>\n",
       "      <th>dit</th>\n",
       "      <th>noc</th>\n",
       "      <th>cbo</th>\n",
       "      <th>rfc</th>\n",
       "      <th>lcom</th>\n",
       "      <th>ca</th>\n",
       "      <th>ce</th>\n",
       "      <th>npm</th>\n",
       "      <th>lcom3</th>\n",
       "      <th>...</th>\n",
       "      <th>dam</th>\n",
       "      <th>moa</th>\n",
       "      <th>mfa</th>\n",
       "      <th>cam</th>\n",
       "      <th>ic</th>\n",
       "      <th>cbm</th>\n",
       "      <th>amc</th>\n",
       "      <th>max_cc</th>\n",
       "      <th>avg_cc</th>\n",
       "      <th>defects</th>\n",
       "    </tr>\n",
       "  </thead>\n",
       "  <tbody>\n",
       "    <tr>\n",
       "      <th>0</th>\n",
       "      <td>28.0</td>\n",
       "      <td>1.0</td>\n",
       "      <td>0.0</td>\n",
       "      <td>32.0</td>\n",
       "      <td>82.0</td>\n",
       "      <td>374.0</td>\n",
       "      <td>26.0</td>\n",
       "      <td>7.0</td>\n",
       "      <td>24.0</td>\n",
       "      <td>1.012346</td>\n",
       "      <td>...</td>\n",
       "      <td>0.166667</td>\n",
       "      <td>0.0</td>\n",
       "      <td>0.0</td>\n",
       "      <td>0.226337</td>\n",
       "      <td>0.0</td>\n",
       "      <td>0.0</td>\n",
       "      <td>31.642857</td>\n",
       "      <td>23.0</td>\n",
       "      <td>2.6786</td>\n",
       "      <td>2.0</td>\n",
       "    </tr>\n",
       "    <tr>\n",
       "      <th>1</th>\n",
       "      <td>6.0</td>\n",
       "      <td>1.0</td>\n",
       "      <td>2.0</td>\n",
       "      <td>3.0</td>\n",
       "      <td>7.0</td>\n",
       "      <td>3.0</td>\n",
       "      <td>2.0</td>\n",
       "      <td>1.0</td>\n",
       "      <td>4.0</td>\n",
       "      <td>0.600000</td>\n",
       "      <td>...</td>\n",
       "      <td>1.000000</td>\n",
       "      <td>0.0</td>\n",
       "      <td>0.0</td>\n",
       "      <td>0.444444</td>\n",
       "      <td>0.0</td>\n",
       "      <td>0.0</td>\n",
       "      <td>4.666667</td>\n",
       "      <td>1.0</td>\n",
       "      <td>0.6667</td>\n",
       "      <td>0.0</td>\n",
       "    </tr>\n",
       "    <tr>\n",
       "      <th>2</th>\n",
       "      <td>4.0</td>\n",
       "      <td>2.0</td>\n",
       "      <td>0.0</td>\n",
       "      <td>5.0</td>\n",
       "      <td>6.0</td>\n",
       "      <td>4.0</td>\n",
       "      <td>1.0</td>\n",
       "      <td>4.0</td>\n",
       "      <td>2.0</td>\n",
       "      <td>0.666667</td>\n",
       "      <td>...</td>\n",
       "      <td>1.000000</td>\n",
       "      <td>1.0</td>\n",
       "      <td>0.5</td>\n",
       "      <td>0.500000</td>\n",
       "      <td>0.0</td>\n",
       "      <td>0.0</td>\n",
       "      <td>4.000000</td>\n",
       "      <td>1.0</td>\n",
       "      <td>0.5000</td>\n",
       "      <td>0.0</td>\n",
       "    </tr>\n",
       "    <tr>\n",
       "      <th>3</th>\n",
       "      <td>4.0</td>\n",
       "      <td>1.0</td>\n",
       "      <td>0.0</td>\n",
       "      <td>9.0</td>\n",
       "      <td>4.0</td>\n",
       "      <td>6.0</td>\n",
       "      <td>9.0</td>\n",
       "      <td>0.0</td>\n",
       "      <td>4.0</td>\n",
       "      <td>2.000000</td>\n",
       "      <td>...</td>\n",
       "      <td>0.000000</td>\n",
       "      <td>0.0</td>\n",
       "      <td>0.0</td>\n",
       "      <td>0.666667</td>\n",
       "      <td>0.0</td>\n",
       "      <td>0.0</td>\n",
       "      <td>0.000000</td>\n",
       "      <td>1.0</td>\n",
       "      <td>1.0000</td>\n",
       "      <td>0.0</td>\n",
       "    </tr>\n",
       "    <tr>\n",
       "      <th>4</th>\n",
       "      <td>1.0</td>\n",
       "      <td>1.0</td>\n",
       "      <td>0.0</td>\n",
       "      <td>8.0</td>\n",
       "      <td>1.0</td>\n",
       "      <td>0.0</td>\n",
       "      <td>6.0</td>\n",
       "      <td>2.0</td>\n",
       "      <td>1.0</td>\n",
       "      <td>2.000000</td>\n",
       "      <td>...</td>\n",
       "      <td>0.000000</td>\n",
       "      <td>0.0</td>\n",
       "      <td>0.0</td>\n",
       "      <td>1.000000</td>\n",
       "      <td>0.0</td>\n",
       "      <td>0.0</td>\n",
       "      <td>0.000000</td>\n",
       "      <td>1.0</td>\n",
       "      <td>1.0000</td>\n",
       "      <td>0.0</td>\n",
       "    </tr>\n",
       "  </tbody>\n",
       "</table>\n",
       "<p>5 rows × 21 columns</p>\n",
       "</div>"
      ],
      "text/plain": [
       "    wmc  dit  noc   cbo   rfc   lcom    ca   ce   npm     lcom3  ...  \\\n",
       "0  28.0  1.0  0.0  32.0  82.0  374.0  26.0  7.0  24.0  1.012346  ...   \n",
       "1   6.0  1.0  2.0   3.0   7.0    3.0   2.0  1.0   4.0  0.600000  ...   \n",
       "2   4.0  2.0  0.0   5.0   6.0    4.0   1.0  4.0   2.0  0.666667  ...   \n",
       "3   4.0  1.0  0.0   9.0   4.0    6.0   9.0  0.0   4.0  2.000000  ...   \n",
       "4   1.0  1.0  0.0   8.0   1.0    0.0   6.0  2.0   1.0  2.000000  ...   \n",
       "\n",
       "        dam  moa  mfa       cam   ic  cbm        amc  max_cc  avg_cc  defects  \n",
       "0  0.166667  0.0  0.0  0.226337  0.0  0.0  31.642857    23.0  2.6786      2.0  \n",
       "1  1.000000  0.0  0.0  0.444444  0.0  0.0   4.666667     1.0  0.6667      0.0  \n",
       "2  1.000000  1.0  0.5  0.500000  0.0  0.0   4.000000     1.0  0.5000      0.0  \n",
       "3  0.000000  0.0  0.0  0.666667  0.0  0.0   0.000000     1.0  1.0000      0.0  \n",
       "4  0.000000  0.0  0.0  1.000000  0.0  0.0   0.000000     1.0  1.0000      0.0  \n",
       "\n",
       "[5 rows x 21 columns]"
      ]
     },
     "execution_count": 7,
     "metadata": {},
     "output_type": "execute_result"
    }
   ],
   "source": [
    "data = arff.loadarff('../dataSet/PROMISE/ivy-2.0.arff')\n",
    "df = pd.DataFrame(data[0])\n",
    "df.head()\n"
   ]
  },
  {
   "cell_type": "code",
   "execution_count": 8,
   "metadata": {},
   "outputs": [
    {
     "data": {
      "text/plain": [
       "0"
      ]
     },
     "execution_count": 8,
     "metadata": {},
     "output_type": "execute_result"
    }
   ],
   "source": [
    "df.isnull().any().sum()\n"
   ]
  },
  {
   "cell_type": "code",
   "execution_count": 9,
   "metadata": {},
   "outputs": [
    {
     "data": {
      "text/plain": [
       "array([[ 2.71722263,  0.11685527,  0.43092059, ...,  0.89066565,\n",
       "         1.36993607,  1.01450847],\n",
       "       [-0.43639588,  0.89867264, -0.28558051, ..., -0.32190722,\n",
       "        -0.57795532, -0.51855932],\n",
       "       [ 1.38299941,  1.68049002, -0.28558051, ...,  0.11204913,\n",
       "        -0.33446889, -0.27030934],\n",
       "       ...,\n",
       "       [-0.61833541, -0.66496211, -0.28558051, ...,  1.05488953,\n",
       "         0.88296322,  2.83281549],\n",
       "       [-0.37574937, -0.66496211, -0.28558051, ...,  0.64209333,\n",
       "        -0.57795532, -0.68401794],\n",
       "       [-0.25445635, -0.66496211, -0.28558051, ...,  3.60451314,\n",
       "         0.15250395,  0.35031563]])"
      ]
     },
     "execution_count": 9,
     "metadata": {},
     "output_type": "execute_result"
    }
   ],
   "source": [
    "from sklearn.preprocessing import StandardScaler  \n",
    "X= df.iloc[ : , :-1].values\n",
    "y= df['defects'].apply(lambda x : 1 if(x > 0) else 0)\n",
    "X_train, X_test, y_train, y_test = train_test_split(X, y, test_size=0.2, random_state=1)\n",
    "st_x= StandardScaler()  \n",
    "X_train= st_x.fit_transform(X_train) \n",
    "X_test= st_x.transform(X_test)  \n",
    "X_train"
   ]
  },
  {
   "cell_type": "code",
   "execution_count": 10,
   "metadata": {},
   "outputs": [
    {
     "data": {
      "text/plain": [
       "SelectFromModel(estimator=LogisticRegression(C=1, penalty='l1',\n",
       "                                             solver='liblinear'))"
      ]
     },
     "execution_count": 10,
     "metadata": {},
     "output_type": "execute_result"
    }
   ],
   "source": [
    "from sklearn.linear_model import Lasso, LogisticRegression\n",
    "from sklearn.feature_selection import SelectFromModel\n",
    "sel_ = SelectFromModel(LogisticRegression(C=1, penalty='l1', solver='liblinear'))\n",
    "sel_.fit(X_train, y_train)"
   ]
  },
  {
   "cell_type": "code",
   "execution_count": 11,
   "metadata": {},
   "outputs": [],
   "source": [
    "sel_.get_support()\n",
    "X_train = sel_.transform(X_train)\n",
    "X_test = sel_.transform(X_test)\n",
    "oversample = SMOTE()\n",
    "X_train, y_train = oversample.fit_resample(X_train, y_train)"
   ]
  },
  {
   "cell_type": "code",
   "execution_count": 17,
   "metadata": {},
   "outputs": [
    {
     "name": "stdout",
     "output_type": "stream",
     "text": [
      "Accuracy of Mixture of Experts: 0.8450704225352113\n",
      "F1 score 0.5342874180083482\n",
      "AUC score 0.5313620071684588\n"
     ]
    },
    {
     "name": "stderr",
     "output_type": "stream",
     "text": [
      "C:\\Users\\AdityaShankar\\anaconda3\\lib\\site-packages\\sklearn\\linear_model\\_logistic.py:763: ConvergenceWarning: lbfgs failed to converge (status=1):\n",
      "STOP: TOTAL NO. of ITERATIONS REACHED LIMIT.\n",
      "\n",
      "Increase the number of iterations (max_iter) or scale the data as shown in:\n",
      "    https://scikit-learn.org/stable/modules/preprocessing.html\n",
      "Please also refer to the documentation for alternative solver options:\n",
      "    https://scikit-learn.org/stable/modules/linear_model.html#logistic-regression\n",
      "  n_iter_i = _check_optimize_result(\n"
     ]
    }
   ],
   "source": [
    "experts = []\n",
    "experts.append(DecisionTree)\n",
    "experts.append(KNN)\n",
    "experts.append(SVM)\n",
    "experts.append(Logistic)\n",
    "Implicit_ME(X_train,y_train,X_test,y_test,2,experts,gate_ntw)"
   ]
  },
  {
   "cell_type": "code",
   "execution_count": null,
   "metadata": {},
   "outputs": [],
   "source": []
  }
 ],
 "metadata": {
  "kernelspec": {
   "display_name": "Python 3",
   "language": "python",
   "name": "python3"
  },
  "language_info": {
   "codemirror_mode": {
    "name": "ipython",
    "version": 3
   },
   "file_extension": ".py",
   "mimetype": "text/x-python",
   "name": "python",
   "nbconvert_exporter": "python",
   "pygments_lexer": "ipython3",
   "version": "3.8.3"
  }
 },
 "nbformat": 4,
 "nbformat_minor": 4
}
